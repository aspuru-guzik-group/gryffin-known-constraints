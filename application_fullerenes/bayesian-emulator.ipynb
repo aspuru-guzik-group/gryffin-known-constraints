{
 "cells": [
  {
   "cell_type": "code",
   "execution_count": 5,
   "metadata": {},
   "outputs": [
    {
     "name": "stdout",
     "output_type": "stream",
     "text": [
      "TORCH VERSION :  1.10.1+cu102\n"
     ]
    }
   ],
   "source": [
    "import pickle\n",
    "import numpy as np\n",
    "\n",
    "from sklearn.metrics import r2_score, mean_squared_error\n",
    "from scipy.stats import pearsonr, spearmanr\n",
    "\n",
    "import matplotlib.pyplot as plt\n",
    "import seaborn as sns\n",
    "\n",
    "import torch\n",
    "import torch.nn as nn\n",
    "import torch.nn.functional as F\n",
    "import torch.optim as optim\n",
    "from torch.utils.tensorboard import SummaryWriter\n",
    "\n",
    "from bayesian_torch.layers import LinearReparameterization\n",
    "from bayesian_torch.layers import LinearFlipout\n",
    "\n",
    "from sklearn.preprocessing import StandardScaler, MinMaxScaler\n",
    "from sklearn.model_selection import train_test_split\n",
    "\n",
    "print('TORCH VERSION : ', torch.__version__)"
   ]
  },
  {
   "cell_type": "markdown",
   "metadata": {},
   "source": [
    "## Data pre-processing"
   ]
  },
  {
   "cell_type": "code",
   "execution_count": 7,
   "metadata": {},
   "outputs": [
    {
     "name": "stdout",
     "output_type": "stream",
     "text": [
      "(600, 7)\n",
      "Index(['c60_flow', 'sultine_flow', 'T', 'NA', 'MA', 'BA', 'TA'], dtype='object')\n"
     ]
    },
    {
     "data": {
      "text/html": [
       "<div>\n",
       "<style scoped>\n",
       "    .dataframe tbody tr th:only-of-type {\n",
       "        vertical-align: middle;\n",
       "    }\n",
       "\n",
       "    .dataframe tbody tr th {\n",
       "        vertical-align: top;\n",
       "    }\n",
       "\n",
       "    .dataframe thead th {\n",
       "        text-align: right;\n",
       "    }\n",
       "</style>\n",
       "<table border=\"1\" class=\"dataframe\">\n",
       "  <thead>\n",
       "    <tr style=\"text-align: right;\">\n",
       "      <th></th>\n",
       "      <th>c60_flow</th>\n",
       "      <th>sultine_flow</th>\n",
       "      <th>T</th>\n",
       "      <th>NA</th>\n",
       "      <th>MA</th>\n",
       "      <th>BA</th>\n",
       "      <th>TA</th>\n",
       "    </tr>\n",
       "  </thead>\n",
       "  <tbody>\n",
       "    <tr>\n",
       "      <th>0</th>\n",
       "      <td>73.777013</td>\n",
       "      <td>139.862987</td>\n",
       "      <td>141.15</td>\n",
       "      <td>0.000000</td>\n",
       "      <td>0.123069</td>\n",
       "      <td>0.493082</td>\n",
       "      <td>0.383849</td>\n",
       "    </tr>\n",
       "    <tr>\n",
       "      <th>1</th>\n",
       "      <td>47.975387</td>\n",
       "      <td>29.864613</td>\n",
       "      <td>134.75</td>\n",
       "      <td>0.032046</td>\n",
       "      <td>0.700855</td>\n",
       "      <td>0.232875</td>\n",
       "      <td>0.034224</td>\n",
       "    </tr>\n",
       "    <tr>\n",
       "      <th>2</th>\n",
       "      <td>146.751920</td>\n",
       "      <td>80.888080</td>\n",
       "      <td>115.85</td>\n",
       "      <td>0.144684</td>\n",
       "      <td>0.763265</td>\n",
       "      <td>0.085645</td>\n",
       "      <td>0.006406</td>\n",
       "    </tr>\n",
       "    <tr>\n",
       "      <th>3</th>\n",
       "      <td>21.782227</td>\n",
       "      <td>17.137773</td>\n",
       "      <td>147.50</td>\n",
       "      <td>0.011557</td>\n",
       "      <td>0.587944</td>\n",
       "      <td>0.327834</td>\n",
       "      <td>0.072665</td>\n",
       "    </tr>\n",
       "    <tr>\n",
       "      <th>4</th>\n",
       "      <td>63.006720</td>\n",
       "      <td>44.513280</td>\n",
       "      <td>101.70</td>\n",
       "      <td>0.160928</td>\n",
       "      <td>0.762194</td>\n",
       "      <td>0.072458</td>\n",
       "      <td>0.004420</td>\n",
       "    </tr>\n",
       "  </tbody>\n",
       "</table>\n",
       "</div>"
      ],
      "text/plain": [
       "     c60_flow  sultine_flow       T        NA        MA        BA        TA\n",
       "0   73.777013    139.862987  141.15  0.000000  0.123069  0.493082  0.383849\n",
       "1   47.975387     29.864613  134.75  0.032046  0.700855  0.232875  0.034224\n",
       "2  146.751920     80.888080  115.85  0.144684  0.763265  0.085645  0.006406\n",
       "3   21.782227     17.137773  147.50  0.011557  0.587944  0.327834  0.072665\n",
       "4   63.006720     44.513280  101.70  0.160928  0.762194  0.072458  0.004420"
      ]
     },
     "execution_count": 7,
     "metadata": {},
     "output_type": "execute_result"
    }
   ],
   "source": [
    "# load in the emulator training data\n",
    "df = pickle.load(open('emulator_train_data.pkl', 'rb'))\n",
    "print(df.shape)\n",
    "print(df.columns)\n",
    "df.head()"
   ]
  },
  {
   "cell_type": "code",
   "execution_count": 12,
   "metadata": {},
   "outputs": [
    {
     "name": "stdout",
     "output_type": "stream",
     "text": [
      "(500, 3) (500, 4)\n",
      "(100, 3) (100, 4)\n"
     ]
    }
   ],
   "source": [
    "# make train and test split\n",
    "np.random.seed(42)\n",
    "df_shuffled = df.sample(frac=1)\n",
    "\n",
    "train_dataset = df_shuffled.iloc[:500, :]\n",
    "test_dataset = df_shuffled.iloc[500:, :]\n",
    "\n",
    "train_features = train_dataset.loc[:, ['c60_flow', 'sultine_flow', 'T']].values\n",
    "test_features = test_dataset.loc[:, ['c60_flow', 'sultine_flow', 'T']].values\n",
    "\n",
    "train_targets = train_dataset.loc[:, ['NA', 'MA', 'BA', 'TA']].values\n",
    "test_targets = test_dataset.loc[:, ['NA', 'MA', 'BA', 'TA']].values\n",
    "\n",
    "print(train_features.shape, train_targets.shape)\n",
    "print(test_features.shape, test_targets.shape)"
   ]
  },
  {
   "cell_type": "code",
   "execution_count": 14,
   "metadata": {},
   "outputs": [
    {
     "name": "stdout",
     "output_type": "stream",
     "text": [
      "torch.Size([500, 3]) torch.Size([100, 3])\n",
      "torch.Size([500, 4]) torch.Size([100, 4])\n"
     ]
    }
   ],
   "source": [
    "# scale the featues using minmax\n",
    "feature_scaler = MinMaxScaler()\n",
    "feature_scaler.fit(train_features)\n",
    "_train_features = torch.tensor(feature_scaler.transform(train_features)).float()\n",
    "_test_features = torch.tensor(feature_scaler.transform(test_features)).float()\n",
    "\n",
    "_train_targets = torch.tensor(train_targets).float()\n",
    "_test_targets = torch.tensor(test_targets).float()\n",
    "\n",
    "print(_train_features.shape, _test_features.shape)\n",
    "print(_train_targets.shape, _test_targets.shape)\n",
    "\n",
    "# make a batch loader\n",
    "ds_train = torch.utils.data.TensorDataset(_train_features, _train_targets)\n",
    "dataloader_train = torch.utils.data.DataLoader(ds_train, batch_size=16, shuffle=True)\n",
    "\n",
    "ds_test = torch.utils.data.TensorDataset(_test_features, _test_targets)\n",
    "dataloader_test = torch.utils.data.DataLoader(ds_test, batch_size=16, shuffle=True)\n"
   ]
  },
  {
   "cell_type": "code",
   "execution_count": 16,
   "metadata": {},
   "outputs": [],
   "source": [
    "# helper function for stats\n",
    "def evaluate(true, pred):\n",
    "    stats = {}\n",
    "    # na, 0th index\n",
    "    mse = mean_squared_error(true[:, 0], pred[:, 0])\n",
    "    rmse = np.sqrt(mean_squared_error(true[:, 0], pred[:, 0]))\n",
    "    r2 = r2_score(true[:, 0], pred[:, 0])\n",
    "    pear = pearsonr(true[:, 0], pred[:, 0])[0]\n",
    "    \n",
    "    stats['na'] = {'mse': mse, 'rmse': rmse, 'r2': r2, 'pear': pear}\n",
    "    \n",
    "    # ma, 1st index\n",
    "    mse = mean_squared_error(true[:, 1], pred[:, 1])\n",
    "    rmse = np.sqrt(mean_squared_error(true[:, 1], pred[:, 1]))\n",
    "    r2 = r2_score(true[:, 1], pred[:, 1])\n",
    "    pear = pearsonr(true[:, 1], pred[:, 1])[0]\n",
    "    \n",
    "    stats['ma'] = {'mse': mse, 'rmse': rmse, 'r2': r2, 'pear': pear}\n",
    "    \n",
    "    # ba, 2nd index\n",
    "    mse = mean_squared_error(true[:, 2], pred[:, 2])\n",
    "    rmse = np.sqrt(mean_squared_error(true[:, 2], pred[:, 2]))\n",
    "    r2 = r2_score(true[:, 2], pred[:, 2])\n",
    "    pear = pearsonr(true[:, 2], pred[:, 2])[0]\n",
    "    \n",
    "    stats['ba'] = {'mse': mse, 'rmse': rmse, 'r2': r2, 'pear': pear}\n",
    "    \n",
    "    # ta, 3rd index\n",
    "    mse = mean_squared_error(true[:, 3], pred[:, 3])\n",
    "    rmse = np.sqrt(mean_squared_error(true[:, 3], pred[:, 3]))\n",
    "    r2 = r2_score(true[:, 3], pred[:, 3])\n",
    "    pear = pearsonr(true[:, 3], pred[:, 3])[0]\n",
    "    \n",
    "    stats['ta'] = {'mse': mse, 'rmse': rmse, 'r2': r2, 'pear': pear}\n",
    "    \n",
    "    return stats"
   ]
  },
  {
   "cell_type": "markdown",
   "metadata": {},
   "source": [
    "## Build the BNN"
   ]
  },
  {
   "cell_type": "code",
   "execution_count": 9,
   "metadata": {},
   "outputs": [],
   "source": [
    "prior_mu = 0.0\n",
    "prior_sigma = 1.0\n",
    "posterior_mu_init = 0.0\n",
    "posterior_rho_init = -2.0\n",
    "\n",
    "prior_mu = 0.0\n",
    "prior_sigma = 1.0\n",
    "posterior_mu_init = 0.0\n",
    "posterior_rho_init = -2.0\n",
    "\n",
    "class BayesianNetwork(nn.Module):\n",
    "    def __init__(self, x_dim=3, y_dim=4, hidden_dim=64):\n",
    "        super(BayesianNetwork, self).__init__()\n",
    "        \n",
    "        self.blinear1 = LinearReparameterization(\n",
    "                in_features=x_dim,\n",
    "                out_features=hidden_dim,\n",
    "                prior_mean=prior_mu,\n",
    "                prior_variance=prior_sigma,\n",
    "                posterior_mu_init=posterior_mu_init,\n",
    "                posterior_rho_init=posterior_rho_init,\n",
    "        )\n",
    "        self.blinear2 = LinearReparameterization(\n",
    "                in_features=hidden_dim,\n",
    "                out_features=hidden_dim,\n",
    "                prior_mean=prior_mu,\n",
    "                prior_variance=prior_sigma,\n",
    "                posterior_mu_init=posterior_mu_init,\n",
    "                posterior_rho_init=posterior_rho_init,\n",
    "        )\n",
    "        self.blinear3 = LinearReparameterization(\n",
    "                in_features=hidden_dim,\n",
    "                out_features=hidden_dim,\n",
    "                prior_mean=prior_mu,\n",
    "                prior_variance=prior_sigma,\n",
    "                posterior_mu_init=posterior_mu_init,\n",
    "                posterior_rho_init=posterior_rho_init,\n",
    "        )\n",
    "        self.blinear4 = LinearReparameterization(\n",
    "                in_features=hidden_dim,\n",
    "                out_features=y_dim,\n",
    "                prior_mean=prior_mu,\n",
    "                prior_variance=prior_sigma,\n",
    "                posterior_mu_init=posterior_mu_init,\n",
    "                posterior_rho_init=posterior_rho_init,\n",
    "        )\n",
    "        \n",
    "    def predict(self, x):\n",
    "        ''' convenience for using the the same api as tf\n",
    "        '''\n",
    "        return self.forward(x)\n",
    "        \n",
    "    def forward(self, x):\n",
    "        kl_sum = 0\n",
    "        \n",
    "        x_, kl = self.blinear1(x)\n",
    "        kl_sum += kl \n",
    "        x_ = F.relu(x_)\n",
    "        \n",
    "        #x_ = nn.Dropout(p=0.1)(x_)\n",
    "        \n",
    "        x_, kl = self.blinear2(x_)\n",
    "        kl_sum += kl\n",
    "        x_ = F.relu(x_)\n",
    "        \n",
    "        #x_ = nn.Dropout(p=0.1)(x_)\n",
    "        \n",
    "        x_, kl = self.blinear3(x_)\n",
    "        kl_sum += kl\n",
    "        x_ = F.relu(x_)\n",
    "        \n",
    "        x_, kl = self.blinear4(x_)\n",
    "        kl_sum += kl\n",
    "        \n",
    "        return F.softmax(x_), kl_sum\n",
    "    "
   ]
  },
  {
   "cell_type": "code",
   "execution_count": 10,
   "metadata": {},
   "outputs": [
    {
     "name": "stdout",
     "output_type": "stream",
     "text": [
      "DEVICE TYPE :  cuda\n"
     ]
    }
   ],
   "source": [
    "# define device and model inference\n",
    "device = torch.device('cuda' if torch.cuda.is_available() else 'cpu')\n",
    "print('DEVICE TYPE : ', device)\n",
    "\n",
    "model = BayesianNetwork(3, 4, 64).to(device)\n",
    "optimizer = optim.Adam(model.parameters(), lr=0.001)"
   ]
  },
  {
   "cell_type": "code",
   "execution_count": 18,
   "metadata": {},
   "outputs": [
    {
     "name": "stderr",
     "output_type": "stream",
     "text": [
      "/home/riley/Software/anaconda3/envs/feas/lib/python3.7/site-packages/ipykernel_launcher.py:75: UserWarning: Implicit dimension choice for softmax has been deprecated. Change the call to include dim=X as an argument.\n"
     ]
    },
    {
     "name": "stdout",
     "output_type": "stream",
     "text": [
      "EPOCH : 0\tELBO : 52.281528\n",
      "[-0.5025392241862334, 0.47615449556954026, 0.74492532175665, 0.36480162559373963] [-100000.0, -100000.0, -10000.0, -10000.0]\n"
     ]
    },
    {
     "name": "stderr",
     "output_type": "stream",
     "text": [
      "/home/riley/Software/anaconda3/envs/feas/lib/python3.7/site-packages/ipykernel_launcher.py:75: UserWarning: Implicit dimension choice for softmax has been deprecated. Change the call to include dim=X as an argument.\n",
      "/home/riley/Software/anaconda3/envs/feas/lib/python3.7/site-packages/ipykernel_launcher.py:75: UserWarning: Implicit dimension choice for softmax has been deprecated. Change the call to include dim=X as an argument.\n"
     ]
    },
    {
     "name": "stdout",
     "output_type": "stream",
     "text": [
      "EPOCH : 10\tELBO : 174.817520\n",
      "[-0.45948486683037865, 0.7647910696967384, 0.8340626745463356, 0.7749722590968791] [-0.5025392241862334, 0.47615449556954026, 0.74492532175665, 0.36480162559373963]\n"
     ]
    },
    {
     "name": "stderr",
     "output_type": "stream",
     "text": [
      "/home/riley/Software/anaconda3/envs/feas/lib/python3.7/site-packages/ipykernel_launcher.py:75: UserWarning: Implicit dimension choice for softmax has been deprecated. Change the call to include dim=X as an argument.\n",
      "/home/riley/Software/anaconda3/envs/feas/lib/python3.7/site-packages/ipykernel_launcher.py:75: UserWarning: Implicit dimension choice for softmax has been deprecated. Change the call to include dim=X as an argument.\n"
     ]
    },
    {
     "name": "stdout",
     "output_type": "stream",
     "text": [
      "EPOCH : 20\tELBO : 28.920883\n",
      "[0.836453573441377, 0.8366159529296486, 0.8578155125383005, 0.8371420456104358] [-0.45948486683037865, 0.7647910696967384, 0.8340626745463356, 0.7749722590968791]\n"
     ]
    },
    {
     "name": "stderr",
     "output_type": "stream",
     "text": [
      "/home/riley/Software/anaconda3/envs/feas/lib/python3.7/site-packages/ipykernel_launcher.py:75: UserWarning: Implicit dimension choice for softmax has been deprecated. Change the call to include dim=X as an argument.\n",
      "/home/riley/Software/anaconda3/envs/feas/lib/python3.7/site-packages/ipykernel_launcher.py:75: UserWarning: Implicit dimension choice for softmax has been deprecated. Change the call to include dim=X as an argument.\n"
     ]
    },
    {
     "name": "stdout",
     "output_type": "stream",
     "text": [
      "EPOCH : 30\tELBO : 6.108507\n",
      "[0.8738053861193924, 0.8271138261338602, 0.849390999253817, 0.8369989236109581] [0.836453573441377, 0.8366159529296486, 0.8578155125383005, 0.8371420456104358]\n"
     ]
    },
    {
     "name": "stderr",
     "output_type": "stream",
     "text": [
      "/home/riley/Software/anaconda3/envs/feas/lib/python3.7/site-packages/ipykernel_launcher.py:75: UserWarning: Implicit dimension choice for softmax has been deprecated. Change the call to include dim=X as an argument.\n",
      "/home/riley/Software/anaconda3/envs/feas/lib/python3.7/site-packages/ipykernel_launcher.py:75: UserWarning: Implicit dimension choice for softmax has been deprecated. Change the call to include dim=X as an argument.\n"
     ]
    },
    {
     "name": "stdout",
     "output_type": "stream",
     "text": [
      "EPOCH : 40\tELBO : 49.623486\n",
      "[0.8877243343133014, 0.8895137559526096, 0.9195928708427699, 0.8444207763587901] [0.8738053861193924, 0.8271138261338602, 0.849390999253817, 0.8369989236109581]\n"
     ]
    },
    {
     "name": "stderr",
     "output_type": "stream",
     "text": [
      "/home/riley/Software/anaconda3/envs/feas/lib/python3.7/site-packages/ipykernel_launcher.py:75: UserWarning: Implicit dimension choice for softmax has been deprecated. Change the call to include dim=X as an argument.\n",
      "/home/riley/Software/anaconda3/envs/feas/lib/python3.7/site-packages/ipykernel_launcher.py:75: UserWarning: Implicit dimension choice for softmax has been deprecated. Change the call to include dim=X as an argument.\n"
     ]
    },
    {
     "name": "stdout",
     "output_type": "stream",
     "text": [
      "EPOCH : 50\tELBO : 14.983840\n",
      "[0.8948224332124548, 0.903306233077928, 0.9218118151799433, 0.8748418503482775] [0.8877243343133014, 0.8895137559526096, 0.9195928708427699, 0.8444207763587901]\n"
     ]
    },
    {
     "name": "stderr",
     "output_type": "stream",
     "text": [
      "/home/riley/Software/anaconda3/envs/feas/lib/python3.7/site-packages/ipykernel_launcher.py:75: UserWarning: Implicit dimension choice for softmax has been deprecated. Change the call to include dim=X as an argument.\n",
      "/home/riley/Software/anaconda3/envs/feas/lib/python3.7/site-packages/ipykernel_launcher.py:75: UserWarning: Implicit dimension choice for softmax has been deprecated. Change the call to include dim=X as an argument.\n"
     ]
    },
    {
     "name": "stdout",
     "output_type": "stream",
     "text": [
      "EPOCH : 60\tELBO : 13.887779\n",
      "[0.9002627577030613, 0.9180323211768011, 0.9273865794888958, 0.8846822913578565] [0.8948224332124548, 0.903306233077928, 0.9218118151799433, 0.8748418503482775]\n"
     ]
    },
    {
     "name": "stderr",
     "output_type": "stream",
     "text": [
      "/home/riley/Software/anaconda3/envs/feas/lib/python3.7/site-packages/ipykernel_launcher.py:75: UserWarning: Implicit dimension choice for softmax has been deprecated. Change the call to include dim=X as an argument.\n",
      "/home/riley/Software/anaconda3/envs/feas/lib/python3.7/site-packages/ipykernel_launcher.py:75: UserWarning: Implicit dimension choice for softmax has been deprecated. Change the call to include dim=X as an argument.\n"
     ]
    },
    {
     "name": "stdout",
     "output_type": "stream",
     "text": [
      "EPOCH : 70\tELBO : 30.438234\n",
      "[0.9094577102688051, 0.9192163535677329, 0.9294155381075334, 0.8857334482204606] [0.9002627577030613, 0.9180323211768011, 0.9273865794888958, 0.8846822913578565]\n"
     ]
    },
    {
     "name": "stderr",
     "output_type": "stream",
     "text": [
      "/home/riley/Software/anaconda3/envs/feas/lib/python3.7/site-packages/ipykernel_launcher.py:75: UserWarning: Implicit dimension choice for softmax has been deprecated. Change the call to include dim=X as an argument.\n",
      "/home/riley/Software/anaconda3/envs/feas/lib/python3.7/site-packages/ipykernel_launcher.py:75: UserWarning: Implicit dimension choice for softmax has been deprecated. Change the call to include dim=X as an argument.\n"
     ]
    },
    {
     "name": "stdout",
     "output_type": "stream",
     "text": [
      "EPOCH : 80\tELBO : 51.456028\n",
      "[0.918092886097416, 0.9314086023322581, 0.9435049417334402, 0.9067856755999406] [0.9094577102688051, 0.9192163535677329, 0.9294155381075334, 0.8857334482204606]\n"
     ]
    },
    {
     "name": "stderr",
     "output_type": "stream",
     "text": [
      "/home/riley/Software/anaconda3/envs/feas/lib/python3.7/site-packages/ipykernel_launcher.py:75: UserWarning: Implicit dimension choice for softmax has been deprecated. Change the call to include dim=X as an argument.\n",
      "/home/riley/Software/anaconda3/envs/feas/lib/python3.7/site-packages/ipykernel_launcher.py:75: UserWarning: Implicit dimension choice for softmax has been deprecated. Change the call to include dim=X as an argument.\n"
     ]
    },
    {
     "name": "stdout",
     "output_type": "stream",
     "text": [
      "EPOCH : 90\tELBO : 6.753290\n",
      "[0.9254584037806941, 0.9238633723977623, 0.9515304609766431, 0.8714291157879999] [0.918092886097416, 0.9314086023322581, 0.9435049417334402, 0.9067856755999406]\n"
     ]
    },
    {
     "name": "stderr",
     "output_type": "stream",
     "text": [
      "/home/riley/Software/anaconda3/envs/feas/lib/python3.7/site-packages/ipykernel_launcher.py:75: UserWarning: Implicit dimension choice for softmax has been deprecated. Change the call to include dim=X as an argument.\n",
      "/home/riley/Software/anaconda3/envs/feas/lib/python3.7/site-packages/ipykernel_launcher.py:75: UserWarning: Implicit dimension choice for softmax has been deprecated. Change the call to include dim=X as an argument.\n"
     ]
    },
    {
     "name": "stdout",
     "output_type": "stream",
     "text": [
      "EPOCH : 100\tELBO : 4.354744\n",
      "[0.9250996137710108, 0.932705945056517, 0.9478474310470546, 0.9053897275033103] [0.918092886097416, 0.9314086023322581, 0.9435049417334402, 0.9067856755999406]\n"
     ]
    },
    {
     "name": "stderr",
     "output_type": "stream",
     "text": [
      "/home/riley/Software/anaconda3/envs/feas/lib/python3.7/site-packages/ipykernel_launcher.py:75: UserWarning: Implicit dimension choice for softmax has been deprecated. Change the call to include dim=X as an argument.\n",
      "/home/riley/Software/anaconda3/envs/feas/lib/python3.7/site-packages/ipykernel_launcher.py:75: UserWarning: Implicit dimension choice for softmax has been deprecated. Change the call to include dim=X as an argument.\n"
     ]
    },
    {
     "name": "stdout",
     "output_type": "stream",
     "text": [
      "EPOCH : 110\tELBO : 11.983750\n",
      "[0.9245980953663284, 0.9396559889612922, 0.9607945559509533, 0.8978708943187748] [0.9250996137710108, 0.932705945056517, 0.9478474310470546, 0.9053897275033103]\n"
     ]
    },
    {
     "name": "stderr",
     "output_type": "stream",
     "text": [
      "/home/riley/Software/anaconda3/envs/feas/lib/python3.7/site-packages/ipykernel_launcher.py:75: UserWarning: Implicit dimension choice for softmax has been deprecated. Change the call to include dim=X as an argument.\n",
      "/home/riley/Software/anaconda3/envs/feas/lib/python3.7/site-packages/ipykernel_launcher.py:75: UserWarning: Implicit dimension choice for softmax has been deprecated. Change the call to include dim=X as an argument.\n"
     ]
    },
    {
     "name": "stdout",
     "output_type": "stream",
     "text": [
      "EPOCH : 120\tELBO : 0.945739\n",
      "[0.9235962467810821, 0.9451039044415579, 0.955833610204011, 0.9169959197831075] [0.9245980953663284, 0.9396559889612922, 0.9607945559509533, 0.8978708943187748]\n"
     ]
    },
    {
     "name": "stderr",
     "output_type": "stream",
     "text": [
      "/home/riley/Software/anaconda3/envs/feas/lib/python3.7/site-packages/ipykernel_launcher.py:75: UserWarning: Implicit dimension choice for softmax has been deprecated. Change the call to include dim=X as an argument.\n",
      "/home/riley/Software/anaconda3/envs/feas/lib/python3.7/site-packages/ipykernel_launcher.py:75: UserWarning: Implicit dimension choice for softmax has been deprecated. Change the call to include dim=X as an argument.\n"
     ]
    },
    {
     "name": "stdout",
     "output_type": "stream",
     "text": [
      "EPOCH : 130\tELBO : -0.737022\n",
      "[0.9263576692714479, 0.94562987897851, 0.9658306795606639, 0.9130599314067664] [0.9235962467810821, 0.9451039044415579, 0.955833610204011, 0.9169959197831075]\n"
     ]
    },
    {
     "name": "stderr",
     "output_type": "stream",
     "text": [
      "/home/riley/Software/anaconda3/envs/feas/lib/python3.7/site-packages/ipykernel_launcher.py:75: UserWarning: Implicit dimension choice for softmax has been deprecated. Change the call to include dim=X as an argument.\n",
      "/home/riley/Software/anaconda3/envs/feas/lib/python3.7/site-packages/ipykernel_launcher.py:75: UserWarning: Implicit dimension choice for softmax has been deprecated. Change the call to include dim=X as an argument.\n"
     ]
    },
    {
     "name": "stdout",
     "output_type": "stream",
     "text": [
      "EPOCH : 140\tELBO : 2.205990\n",
      "[0.9311753847174848, 0.9437700449795684, 0.956734679585234, 0.9090583153538009] [0.9263576692714479, 0.94562987897851, 0.9658306795606639, 0.9130599314067664]\n"
     ]
    },
    {
     "name": "stderr",
     "output_type": "stream",
     "text": [
      "/home/riley/Software/anaconda3/envs/feas/lib/python3.7/site-packages/ipykernel_launcher.py:75: UserWarning: Implicit dimension choice for softmax has been deprecated. Change the call to include dim=X as an argument.\n",
      "/home/riley/Software/anaconda3/envs/feas/lib/python3.7/site-packages/ipykernel_launcher.py:75: UserWarning: Implicit dimension choice for softmax has been deprecated. Change the call to include dim=X as an argument.\n"
     ]
    },
    {
     "name": "stdout",
     "output_type": "stream",
     "text": [
      "EPOCH : 150\tELBO : 15.381155\n",
      "[0.9302381332703851, 0.9552143491531374, 0.9648142725342708, 0.9193421579029102] [0.9263576692714479, 0.94562987897851, 0.9658306795606639, 0.9130599314067664]\n"
     ]
    },
    {
     "name": "stderr",
     "output_type": "stream",
     "text": [
      "/home/riley/Software/anaconda3/envs/feas/lib/python3.7/site-packages/ipykernel_launcher.py:75: UserWarning: Implicit dimension choice for softmax has been deprecated. Change the call to include dim=X as an argument.\n",
      "/home/riley/Software/anaconda3/envs/feas/lib/python3.7/site-packages/ipykernel_launcher.py:75: UserWarning: Implicit dimension choice for softmax has been deprecated. Change the call to include dim=X as an argument.\n"
     ]
    },
    {
     "name": "stdout",
     "output_type": "stream",
     "text": [
      "EPOCH : 160\tELBO : 39.868305\n",
      "[0.9327237587847057, 0.9534630558021688, 0.964236940715252, 0.9301555050905446] [0.9302381332703851, 0.9552143491531374, 0.9648142725342708, 0.9193421579029102]\n"
     ]
    },
    {
     "name": "stderr",
     "output_type": "stream",
     "text": [
      "/home/riley/Software/anaconda3/envs/feas/lib/python3.7/site-packages/ipykernel_launcher.py:75: UserWarning: Implicit dimension choice for softmax has been deprecated. Change the call to include dim=X as an argument.\n",
      "/home/riley/Software/anaconda3/envs/feas/lib/python3.7/site-packages/ipykernel_launcher.py:75: UserWarning: Implicit dimension choice for softmax has been deprecated. Change the call to include dim=X as an argument.\n"
     ]
    },
    {
     "name": "stdout",
     "output_type": "stream",
     "text": [
      "EPOCH : 170\tELBO : 13.686095\n",
      "[0.9322152848548337, 0.9403215974067052, 0.9564537570220151, 0.9152181784047104] [0.9327237587847057, 0.9534630558021688, 0.964236940715252, 0.9301555050905446]\n"
     ]
    },
    {
     "name": "stderr",
     "output_type": "stream",
     "text": [
      "/home/riley/Software/anaconda3/envs/feas/lib/python3.7/site-packages/ipykernel_launcher.py:75: UserWarning: Implicit dimension choice for softmax has been deprecated. Change the call to include dim=X as an argument.\n",
      "/home/riley/Software/anaconda3/envs/feas/lib/python3.7/site-packages/ipykernel_launcher.py:75: UserWarning: Implicit dimension choice for softmax has been deprecated. Change the call to include dim=X as an argument.\n"
     ]
    },
    {
     "name": "stdout",
     "output_type": "stream",
     "text": [
      "EPOCH : 180\tELBO : 5.397891\n",
      "[0.9325626767194837, 0.9456700443258865, 0.9534104055763065, 0.9223797129683388] [0.9327237587847057, 0.9534630558021688, 0.964236940715252, 0.9301555050905446]\n"
     ]
    },
    {
     "name": "stderr",
     "output_type": "stream",
     "text": [
      "/home/riley/Software/anaconda3/envs/feas/lib/python3.7/site-packages/ipykernel_launcher.py:75: UserWarning: Implicit dimension choice for softmax has been deprecated. Change the call to include dim=X as an argument.\n",
      "/home/riley/Software/anaconda3/envs/feas/lib/python3.7/site-packages/ipykernel_launcher.py:75: UserWarning: Implicit dimension choice for softmax has been deprecated. Change the call to include dim=X as an argument.\n"
     ]
    },
    {
     "name": "stdout",
     "output_type": "stream",
     "text": [
      "EPOCH : 190\tELBO : 4.053264\n",
      "[0.9309794508546283, 0.9334246806638353, 0.9623842802168869, 0.8952025133837201] [0.9327237587847057, 0.9534630558021688, 0.964236940715252, 0.9301555050905446]\n"
     ]
    },
    {
     "name": "stderr",
     "output_type": "stream",
     "text": [
      "/home/riley/Software/anaconda3/envs/feas/lib/python3.7/site-packages/ipykernel_launcher.py:75: UserWarning: Implicit dimension choice for softmax has been deprecated. Change the call to include dim=X as an argument.\n",
      "/home/riley/Software/anaconda3/envs/feas/lib/python3.7/site-packages/ipykernel_launcher.py:75: UserWarning: Implicit dimension choice for softmax has been deprecated. Change the call to include dim=X as an argument.\n"
     ]
    },
    {
     "name": "stdout",
     "output_type": "stream",
     "text": [
      "EPOCH : 200\tELBO : 27.614424\n",
      "[0.9326043738956986, 0.9429882820097754, 0.9590169085008191, 0.905272017896517] [0.9327237587847057, 0.9534630558021688, 0.964236940715252, 0.9301555050905446]\n"
     ]
    },
    {
     "name": "stderr",
     "output_type": "stream",
     "text": [
      "/home/riley/Software/anaconda3/envs/feas/lib/python3.7/site-packages/ipykernel_launcher.py:75: UserWarning: Implicit dimension choice for softmax has been deprecated. Change the call to include dim=X as an argument.\n",
      "/home/riley/Software/anaconda3/envs/feas/lib/python3.7/site-packages/ipykernel_launcher.py:75: UserWarning: Implicit dimension choice for softmax has been deprecated. Change the call to include dim=X as an argument.\n"
     ]
    },
    {
     "name": "stdout",
     "output_type": "stream",
     "text": [
      "EPOCH : 210\tELBO : 10.552205\n",
      "[0.9146056285256642, 0.9453883302068669, 0.9600402939307755, 0.9223735588461883] [0.9327237587847057, 0.9534630558021688, 0.964236940715252, 0.9301555050905446]\n"
     ]
    },
    {
     "name": "stderr",
     "output_type": "stream",
     "text": [
      "/home/riley/Software/anaconda3/envs/feas/lib/python3.7/site-packages/ipykernel_launcher.py:75: UserWarning: Implicit dimension choice for softmax has been deprecated. Change the call to include dim=X as an argument.\n",
      "/home/riley/Software/anaconda3/envs/feas/lib/python3.7/site-packages/ipykernel_launcher.py:75: UserWarning: Implicit dimension choice for softmax has been deprecated. Change the call to include dim=X as an argument.\n"
     ]
    },
    {
     "name": "stdout",
     "output_type": "stream",
     "text": [
      "EPOCH : 220\tELBO : -0.221900\n",
      "[0.9329978758913846, 0.9514400476648206, 0.9641353115864373, 0.9122255610665708] [0.9327237587847057, 0.9534630558021688, 0.964236940715252, 0.9301555050905446]\n"
     ]
    },
    {
     "name": "stderr",
     "output_type": "stream",
     "text": [
      "/home/riley/Software/anaconda3/envs/feas/lib/python3.7/site-packages/ipykernel_launcher.py:75: UserWarning: Implicit dimension choice for softmax has been deprecated. Change the call to include dim=X as an argument.\n",
      "/home/riley/Software/anaconda3/envs/feas/lib/python3.7/site-packages/ipykernel_launcher.py:75: UserWarning: Implicit dimension choice for softmax has been deprecated. Change the call to include dim=X as an argument.\n"
     ]
    },
    {
     "name": "stdout",
     "output_type": "stream",
     "text": [
      "EPOCH : 230\tELBO : 11.233737\n",
      "[0.9325718111183707, 0.9525002169845175, 0.9649335515352806, 0.9310967903094168] [0.9327237587847057, 0.9534630558021688, 0.964236940715252, 0.9301555050905446]\n"
     ]
    },
    {
     "name": "stderr",
     "output_type": "stream",
     "text": [
      "/home/riley/Software/anaconda3/envs/feas/lib/python3.7/site-packages/ipykernel_launcher.py:75: UserWarning: Implicit dimension choice for softmax has been deprecated. Change the call to include dim=X as an argument.\n",
      "/home/riley/Software/anaconda3/envs/feas/lib/python3.7/site-packages/ipykernel_launcher.py:75: UserWarning: Implicit dimension choice for softmax has been deprecated. Change the call to include dim=X as an argument.\n"
     ]
    },
    {
     "name": "stdout",
     "output_type": "stream",
     "text": [
      "EPOCH : 240\tELBO : 6.718030\n",
      "[0.9295749927185853, 0.9549816055782068, 0.9655953420723599, 0.902949271389111] [0.9325718111183707, 0.9525002169845175, 0.9649335515352806, 0.9310967903094168]\n"
     ]
    },
    {
     "name": "stderr",
     "output_type": "stream",
     "text": [
      "/home/riley/Software/anaconda3/envs/feas/lib/python3.7/site-packages/ipykernel_launcher.py:75: UserWarning: Implicit dimension choice for softmax has been deprecated. Change the call to include dim=X as an argument.\n",
      "/home/riley/Software/anaconda3/envs/feas/lib/python3.7/site-packages/ipykernel_launcher.py:75: UserWarning: Implicit dimension choice for softmax has been deprecated. Change the call to include dim=X as an argument.\n"
     ]
    },
    {
     "name": "stdout",
     "output_type": "stream",
     "text": [
      "EPOCH : 250\tELBO : 8.744535\n",
      "[0.9322026736335002, 0.9583224007202896, 0.9685961003433536, 0.9261404731256165] [0.9325718111183707, 0.9525002169845175, 0.9649335515352806, 0.9310967903094168]\n"
     ]
    },
    {
     "name": "stderr",
     "output_type": "stream",
     "text": [
      "/home/riley/Software/anaconda3/envs/feas/lib/python3.7/site-packages/ipykernel_launcher.py:75: UserWarning: Implicit dimension choice for softmax has been deprecated. Change the call to include dim=X as an argument.\n",
      "/home/riley/Software/anaconda3/envs/feas/lib/python3.7/site-packages/ipykernel_launcher.py:75: UserWarning: Implicit dimension choice for softmax has been deprecated. Change the call to include dim=X as an argument.\n"
     ]
    },
    {
     "name": "stdout",
     "output_type": "stream",
     "text": [
      "EPOCH : 260\tELBO : 0.885111\n",
      "[0.9297608060019865, 0.958064201886914, 0.9606199391571055, 0.9390716446975973] [0.9322026736335002, 0.9583224007202896, 0.9685961003433536, 0.9261404731256165]\n"
     ]
    },
    {
     "name": "stderr",
     "output_type": "stream",
     "text": [
      "/home/riley/Software/anaconda3/envs/feas/lib/python3.7/site-packages/ipykernel_launcher.py:75: UserWarning: Implicit dimension choice for softmax has been deprecated. Change the call to include dim=X as an argument.\n",
      "/home/riley/Software/anaconda3/envs/feas/lib/python3.7/site-packages/ipykernel_launcher.py:75: UserWarning: Implicit dimension choice for softmax has been deprecated. Change the call to include dim=X as an argument.\n"
     ]
    },
    {
     "name": "stdout",
     "output_type": "stream",
     "text": [
      "EPOCH : 270\tELBO : -1.466872\n",
      "[0.9363851746445574, 0.9493510568933066, 0.9655995350542543, 0.9135697277931023] [0.9297608060019865, 0.958064201886914, 0.9606199391571055, 0.9390716446975973]\n"
     ]
    },
    {
     "name": "stderr",
     "output_type": "stream",
     "text": [
      "/home/riley/Software/anaconda3/envs/feas/lib/python3.7/site-packages/ipykernel_launcher.py:75: UserWarning: Implicit dimension choice for softmax has been deprecated. Change the call to include dim=X as an argument.\n",
      "/home/riley/Software/anaconda3/envs/feas/lib/python3.7/site-packages/ipykernel_launcher.py:75: UserWarning: Implicit dimension choice for softmax has been deprecated. Change the call to include dim=X as an argument.\n"
     ]
    },
    {
     "name": "stdout",
     "output_type": "stream",
     "text": [
      "EPOCH : 280\tELBO : 10.428694\n",
      "[0.9228115440191822, 0.9600939081701899, 0.9685469627234713, 0.9359397622935699] [0.9297608060019865, 0.958064201886914, 0.9606199391571055, 0.9390716446975973]\n"
     ]
    },
    {
     "name": "stderr",
     "output_type": "stream",
     "text": [
      "/home/riley/Software/anaconda3/envs/feas/lib/python3.7/site-packages/ipykernel_launcher.py:75: UserWarning: Implicit dimension choice for softmax has been deprecated. Change the call to include dim=X as an argument.\n",
      "/home/riley/Software/anaconda3/envs/feas/lib/python3.7/site-packages/ipykernel_launcher.py:75: UserWarning: Implicit dimension choice for softmax has been deprecated. Change the call to include dim=X as an argument.\n"
     ]
    },
    {
     "name": "stdout",
     "output_type": "stream",
     "text": [
      "EPOCH : 290\tELBO : 5.618198\n",
      "[0.934010094941474, 0.9528803740876032, 0.963755101279629, 0.9231263575137915] [0.9297608060019865, 0.958064201886914, 0.9606199391571055, 0.9390716446975973]\n"
     ]
    },
    {
     "name": "stderr",
     "output_type": "stream",
     "text": [
      "/home/riley/Software/anaconda3/envs/feas/lib/python3.7/site-packages/ipykernel_launcher.py:75: UserWarning: Implicit dimension choice for softmax has been deprecated. Change the call to include dim=X as an argument.\n",
      "/home/riley/Software/anaconda3/envs/feas/lib/python3.7/site-packages/ipykernel_launcher.py:75: UserWarning: Implicit dimension choice for softmax has been deprecated. Change the call to include dim=X as an argument.\n"
     ]
    },
    {
     "name": "stdout",
     "output_type": "stream",
     "text": [
      "EPOCH : 300\tELBO : 11.835646\n",
      "[0.9324265003363715, 0.963759366280937, 0.9686285111039579, 0.9431251004070036] [0.9297608060019865, 0.958064201886914, 0.9606199391571055, 0.9390716446975973]\n"
     ]
    },
    {
     "name": "stderr",
     "output_type": "stream",
     "text": [
      "/home/riley/Software/anaconda3/envs/feas/lib/python3.7/site-packages/ipykernel_launcher.py:75: UserWarning: Implicit dimension choice for softmax has been deprecated. Change the call to include dim=X as an argument.\n",
      "/home/riley/Software/anaconda3/envs/feas/lib/python3.7/site-packages/ipykernel_launcher.py:75: UserWarning: Implicit dimension choice for softmax has been deprecated. Change the call to include dim=X as an argument.\n"
     ]
    },
    {
     "name": "stdout",
     "output_type": "stream",
     "text": [
      "EPOCH : 310\tELBO : 2.074023\n",
      "[0.9365404802597889, 0.9592427028802449, 0.9692783643466879, 0.9231906857323977] [0.9324265003363715, 0.963759366280937, 0.9686285111039579, 0.9431251004070036]\n"
     ]
    },
    {
     "name": "stderr",
     "output_type": "stream",
     "text": [
      "/home/riley/Software/anaconda3/envs/feas/lib/python3.7/site-packages/ipykernel_launcher.py:75: UserWarning: Implicit dimension choice for softmax has been deprecated. Change the call to include dim=X as an argument.\n",
      "/home/riley/Software/anaconda3/envs/feas/lib/python3.7/site-packages/ipykernel_launcher.py:75: UserWarning: Implicit dimension choice for softmax has been deprecated. Change the call to include dim=X as an argument.\n"
     ]
    },
    {
     "name": "stdout",
     "output_type": "stream",
     "text": [
      "EPOCH : 320\tELBO : 11.863302\n",
      "[0.9358298719774041, 0.9589269434027476, 0.9659221736146106, 0.9332472771744516] [0.9324265003363715, 0.963759366280937, 0.9686285111039579, 0.9431251004070036]\n"
     ]
    },
    {
     "name": "stderr",
     "output_type": "stream",
     "text": [
      "/home/riley/Software/anaconda3/envs/feas/lib/python3.7/site-packages/ipykernel_launcher.py:75: UserWarning: Implicit dimension choice for softmax has been deprecated. Change the call to include dim=X as an argument.\n",
      "/home/riley/Software/anaconda3/envs/feas/lib/python3.7/site-packages/ipykernel_launcher.py:75: UserWarning: Implicit dimension choice for softmax has been deprecated. Change the call to include dim=X as an argument.\n"
     ]
    },
    {
     "name": "stdout",
     "output_type": "stream",
     "text": [
      "EPOCH : 330\tELBO : 6.152020\n",
      "[0.9294908590571631, 0.961548630061513, 0.9650365075673555, 0.9436758888718513] [0.9324265003363715, 0.963759366280937, 0.9686285111039579, 0.9431251004070036]\n"
     ]
    },
    {
     "name": "stderr",
     "output_type": "stream",
     "text": [
      "/home/riley/Software/anaconda3/envs/feas/lib/python3.7/site-packages/ipykernel_launcher.py:75: UserWarning: Implicit dimension choice for softmax has been deprecated. Change the call to include dim=X as an argument.\n",
      "/home/riley/Software/anaconda3/envs/feas/lib/python3.7/site-packages/ipykernel_launcher.py:75: UserWarning: Implicit dimension choice for softmax has been deprecated. Change the call to include dim=X as an argument.\n"
     ]
    },
    {
     "name": "stdout",
     "output_type": "stream",
     "text": [
      "EPOCH : 340\tELBO : 2.148885\n",
      "[0.9337587979991743, 0.9638735501184379, 0.9661266162612343, 0.9395745947690886] [0.9324265003363715, 0.963759366280937, 0.9686285111039579, 0.9431251004070036]\n"
     ]
    },
    {
     "name": "stderr",
     "output_type": "stream",
     "text": [
      "/home/riley/Software/anaconda3/envs/feas/lib/python3.7/site-packages/ipykernel_launcher.py:75: UserWarning: Implicit dimension choice for softmax has been deprecated. Change the call to include dim=X as an argument.\n",
      "/home/riley/Software/anaconda3/envs/feas/lib/python3.7/site-packages/ipykernel_launcher.py:75: UserWarning: Implicit dimension choice for softmax has been deprecated. Change the call to include dim=X as an argument.\n"
     ]
    },
    {
     "name": "stdout",
     "output_type": "stream",
     "text": [
      "EPOCH : 350\tELBO : -1.404612\n",
      "[0.9240153191911346, 0.9545183566178603, 0.9625468923664031, 0.9417693136140471] [0.9324265003363715, 0.963759366280937, 0.9686285111039579, 0.9431251004070036]\n"
     ]
    },
    {
     "name": "stderr",
     "output_type": "stream",
     "text": [
      "/home/riley/Software/anaconda3/envs/feas/lib/python3.7/site-packages/ipykernel_launcher.py:75: UserWarning: Implicit dimension choice for softmax has been deprecated. Change the call to include dim=X as an argument.\n",
      "/home/riley/Software/anaconda3/envs/feas/lib/python3.7/site-packages/ipykernel_launcher.py:75: UserWarning: Implicit dimension choice for softmax has been deprecated. Change the call to include dim=X as an argument.\n"
     ]
    },
    {
     "name": "stdout",
     "output_type": "stream",
     "text": [
      "EPOCH : 360\tELBO : 7.572978\n",
      "[0.9280375779314283, 0.9633033664879529, 0.967185806865759, 0.9465945136804416] [0.9324265003363715, 0.963759366280937, 0.9686285111039579, 0.9431251004070036]\n"
     ]
    },
    {
     "name": "stderr",
     "output_type": "stream",
     "text": [
      "/home/riley/Software/anaconda3/envs/feas/lib/python3.7/site-packages/ipykernel_launcher.py:75: UserWarning: Implicit dimension choice for softmax has been deprecated. Change the call to include dim=X as an argument.\n",
      "/home/riley/Software/anaconda3/envs/feas/lib/python3.7/site-packages/ipykernel_launcher.py:75: UserWarning: Implicit dimension choice for softmax has been deprecated. Change the call to include dim=X as an argument.\n"
     ]
    },
    {
     "name": "stdout",
     "output_type": "stream",
     "text": [
      "EPOCH : 370\tELBO : 0.064873\n",
      "[0.930044512406998, 0.9531819889738901, 0.9673638266035696, 0.9423913133488133] [0.9324265003363715, 0.963759366280937, 0.9686285111039579, 0.9431251004070036]\n"
     ]
    },
    {
     "name": "stderr",
     "output_type": "stream",
     "text": [
      "/home/riley/Software/anaconda3/envs/feas/lib/python3.7/site-packages/ipykernel_launcher.py:75: UserWarning: Implicit dimension choice for softmax has been deprecated. Change the call to include dim=X as an argument.\n",
      "/home/riley/Software/anaconda3/envs/feas/lib/python3.7/site-packages/ipykernel_launcher.py:75: UserWarning: Implicit dimension choice for softmax has been deprecated. Change the call to include dim=X as an argument.\n"
     ]
    },
    {
     "name": "stdout",
     "output_type": "stream",
     "text": [
      "EPOCH : 380\tELBO : 5.363649\n",
      "[0.932496295287413, 0.9599775008242155, 0.9664784099788197, 0.9401875133767039] [0.9324265003363715, 0.963759366280937, 0.9686285111039579, 0.9431251004070036]\n"
     ]
    },
    {
     "name": "stderr",
     "output_type": "stream",
     "text": [
      "/home/riley/Software/anaconda3/envs/feas/lib/python3.7/site-packages/ipykernel_launcher.py:75: UserWarning: Implicit dimension choice for softmax has been deprecated. Change the call to include dim=X as an argument.\n",
      "/home/riley/Software/anaconda3/envs/feas/lib/python3.7/site-packages/ipykernel_launcher.py:75: UserWarning: Implicit dimension choice for softmax has been deprecated. Change the call to include dim=X as an argument.\n"
     ]
    },
    {
     "name": "stdout",
     "output_type": "stream",
     "text": [
      "EPOCH : 390\tELBO : 16.905533\n",
      "[0.9331776401706448, 0.9617983050569817, 0.9685759244864169, 0.940418272599451] [0.9324265003363715, 0.963759366280937, 0.9686285111039579, 0.9431251004070036]\n"
     ]
    },
    {
     "name": "stderr",
     "output_type": "stream",
     "text": [
      "/home/riley/Software/anaconda3/envs/feas/lib/python3.7/site-packages/ipykernel_launcher.py:75: UserWarning: Implicit dimension choice for softmax has been deprecated. Change the call to include dim=X as an argument.\n",
      "/home/riley/Software/anaconda3/envs/feas/lib/python3.7/site-packages/ipykernel_launcher.py:75: UserWarning: Implicit dimension choice for softmax has been deprecated. Change the call to include dim=X as an argument.\n"
     ]
    },
    {
     "name": "stdout",
     "output_type": "stream",
     "text": [
      "EPOCH : 400\tELBO : 38.737179\n",
      "[0.9320406484447223, 0.965757830412266, 0.9695421613076476, 0.9473803631611781] [0.9324265003363715, 0.963759366280937, 0.9686285111039579, 0.9431251004070036]\n"
     ]
    },
    {
     "name": "stderr",
     "output_type": "stream",
     "text": [
      "/home/riley/Software/anaconda3/envs/feas/lib/python3.7/site-packages/ipykernel_launcher.py:75: UserWarning: Implicit dimension choice for softmax has been deprecated. Change the call to include dim=X as an argument.\n",
      "/home/riley/Software/anaconda3/envs/feas/lib/python3.7/site-packages/ipykernel_launcher.py:75: UserWarning: Implicit dimension choice for softmax has been deprecated. Change the call to include dim=X as an argument.\n"
     ]
    },
    {
     "name": "stdout",
     "output_type": "stream",
     "text": [
      "EPOCH : 410\tELBO : 6.296726\n",
      "[0.9339265606170015, 0.9598261119981514, 0.967772273289287, 0.9302199750476334] [0.9320406484447223, 0.965757830412266, 0.9695421613076476, 0.9473803631611781]\n"
     ]
    },
    {
     "name": "stderr",
     "output_type": "stream",
     "text": [
      "/home/riley/Software/anaconda3/envs/feas/lib/python3.7/site-packages/ipykernel_launcher.py:75: UserWarning: Implicit dimension choice for softmax has been deprecated. Change the call to include dim=X as an argument.\n",
      "/home/riley/Software/anaconda3/envs/feas/lib/python3.7/site-packages/ipykernel_launcher.py:75: UserWarning: Implicit dimension choice for softmax has been deprecated. Change the call to include dim=X as an argument.\n"
     ]
    },
    {
     "name": "stdout",
     "output_type": "stream",
     "text": [
      "EPOCH : 420\tELBO : 6.409360\n",
      "[0.915495758673218, 0.9605156834897444, 0.9678020262550533, 0.9377787363483694] [0.9320406484447223, 0.965757830412266, 0.9695421613076476, 0.9473803631611781]\n"
     ]
    },
    {
     "name": "stderr",
     "output_type": "stream",
     "text": [
      "/home/riley/Software/anaconda3/envs/feas/lib/python3.7/site-packages/ipykernel_launcher.py:75: UserWarning: Implicit dimension choice for softmax has been deprecated. Change the call to include dim=X as an argument.\n",
      "/home/riley/Software/anaconda3/envs/feas/lib/python3.7/site-packages/ipykernel_launcher.py:75: UserWarning: Implicit dimension choice for softmax has been deprecated. Change the call to include dim=X as an argument.\n"
     ]
    },
    {
     "name": "stdout",
     "output_type": "stream",
     "text": [
      "EPOCH : 430\tELBO : -1.034322\n",
      "[0.9307167076514863, 0.9640283920077883, 0.9680481212011035, 0.9454784558830713] [0.9320406484447223, 0.965757830412266, 0.9695421613076476, 0.9473803631611781]\n"
     ]
    },
    {
     "name": "stderr",
     "output_type": "stream",
     "text": [
      "/home/riley/Software/anaconda3/envs/feas/lib/python3.7/site-packages/ipykernel_launcher.py:75: UserWarning: Implicit dimension choice for softmax has been deprecated. Change the call to include dim=X as an argument.\n",
      "/home/riley/Software/anaconda3/envs/feas/lib/python3.7/site-packages/ipykernel_launcher.py:75: UserWarning: Implicit dimension choice for softmax has been deprecated. Change the call to include dim=X as an argument.\n"
     ]
    },
    {
     "name": "stdout",
     "output_type": "stream",
     "text": [
      "EPOCH : 440\tELBO : 8.627523\n",
      "[0.9314772476117821, 0.9563634306866906, 0.9658308065971268, 0.9412203756395371] [0.9320406484447223, 0.965757830412266, 0.9695421613076476, 0.9473803631611781]\n"
     ]
    },
    {
     "name": "stderr",
     "output_type": "stream",
     "text": [
      "/home/riley/Software/anaconda3/envs/feas/lib/python3.7/site-packages/ipykernel_launcher.py:75: UserWarning: Implicit dimension choice for softmax has been deprecated. Change the call to include dim=X as an argument.\n",
      "/home/riley/Software/anaconda3/envs/feas/lib/python3.7/site-packages/ipykernel_launcher.py:75: UserWarning: Implicit dimension choice for softmax has been deprecated. Change the call to include dim=X as an argument.\n"
     ]
    },
    {
     "name": "stdout",
     "output_type": "stream",
     "text": [
      "EPOCH : 450\tELBO : 21.650572\n",
      "[0.9313414284806119, 0.9652938857891206, 0.9681909601691852, 0.945951955190699] [0.9320406484447223, 0.965757830412266, 0.9695421613076476, 0.9473803631611781]\n"
     ]
    },
    {
     "name": "stderr",
     "output_type": "stream",
     "text": [
      "/home/riley/Software/anaconda3/envs/feas/lib/python3.7/site-packages/ipykernel_launcher.py:75: UserWarning: Implicit dimension choice for softmax has been deprecated. Change the call to include dim=X as an argument.\n",
      "/home/riley/Software/anaconda3/envs/feas/lib/python3.7/site-packages/ipykernel_launcher.py:75: UserWarning: Implicit dimension choice for softmax has been deprecated. Change the call to include dim=X as an argument.\n"
     ]
    },
    {
     "name": "stdout",
     "output_type": "stream",
     "text": [
      "EPOCH : 460\tELBO : 19.712729\n",
      "[0.9351409553145684, 0.9552941620424136, 0.967567853163832, 0.9185685822739799] [0.9320406484447223, 0.965757830412266, 0.9695421613076476, 0.9473803631611781]\n"
     ]
    },
    {
     "name": "stderr",
     "output_type": "stream",
     "text": [
      "/home/riley/Software/anaconda3/envs/feas/lib/python3.7/site-packages/ipykernel_launcher.py:75: UserWarning: Implicit dimension choice for softmax has been deprecated. Change the call to include dim=X as an argument.\n",
      "/home/riley/Software/anaconda3/envs/feas/lib/python3.7/site-packages/ipykernel_launcher.py:75: UserWarning: Implicit dimension choice for softmax has been deprecated. Change the call to include dim=X as an argument.\n"
     ]
    },
    {
     "name": "stdout",
     "output_type": "stream",
     "text": [
      "EPOCH : 470\tELBO : 3.587201\n",
      "[0.9368912143996042, 0.9634391173470314, 0.9664213645437034, 0.9383180023386678] [0.9320406484447223, 0.965757830412266, 0.9695421613076476, 0.9473803631611781]\n"
     ]
    },
    {
     "name": "stderr",
     "output_type": "stream",
     "text": [
      "/home/riley/Software/anaconda3/envs/feas/lib/python3.7/site-packages/ipykernel_launcher.py:75: UserWarning: Implicit dimension choice for softmax has been deprecated. Change the call to include dim=X as an argument.\n",
      "/home/riley/Software/anaconda3/envs/feas/lib/python3.7/site-packages/ipykernel_launcher.py:75: UserWarning: Implicit dimension choice for softmax has been deprecated. Change the call to include dim=X as an argument.\n"
     ]
    },
    {
     "name": "stdout",
     "output_type": "stream",
     "text": [
      "EPOCH : 480\tELBO : 26.297617\n",
      "[0.9354093707260001, 0.9649820772094988, 0.96677581809766, 0.9448395855691234] [0.9320406484447223, 0.965757830412266, 0.9695421613076476, 0.9473803631611781]\n"
     ]
    },
    {
     "name": "stderr",
     "output_type": "stream",
     "text": [
      "/home/riley/Software/anaconda3/envs/feas/lib/python3.7/site-packages/ipykernel_launcher.py:75: UserWarning: Implicit dimension choice for softmax has been deprecated. Change the call to include dim=X as an argument.\n",
      "/home/riley/Software/anaconda3/envs/feas/lib/python3.7/site-packages/ipykernel_launcher.py:75: UserWarning: Implicit dimension choice for softmax has been deprecated. Change the call to include dim=X as an argument.\n"
     ]
    },
    {
     "name": "stdout",
     "output_type": "stream",
     "text": [
      "EPOCH : 490\tELBO : 15.403894\n",
      "[0.9323797169196782, 0.9650152739353788, 0.9696140921721188, 0.946949411508166] [0.9320406484447223, 0.965757830412266, 0.9695421613076476, 0.9473803631611781]\n"
     ]
    },
    {
     "name": "stderr",
     "output_type": "stream",
     "text": [
      "/home/riley/Software/anaconda3/envs/feas/lib/python3.7/site-packages/ipykernel_launcher.py:75: UserWarning: Implicit dimension choice for softmax has been deprecated. Change the call to include dim=X as an argument.\n",
      "/home/riley/Software/anaconda3/envs/feas/lib/python3.7/site-packages/ipykernel_launcher.py:75: UserWarning: Implicit dimension choice for softmax has been deprecated. Change the call to include dim=X as an argument.\n"
     ]
    },
    {
     "name": "stdout",
     "output_type": "stream",
     "text": [
      "EPOCH : 500\tELBO : 6.977702\n",
      "[0.9323901483795682, 0.9612499966657411, 0.9691472988359804, 0.9323769966680251] [0.9320406484447223, 0.965757830412266, 0.9695421613076476, 0.9473803631611781]\n"
     ]
    },
    {
     "name": "stderr",
     "output_type": "stream",
     "text": [
      "/home/riley/Software/anaconda3/envs/feas/lib/python3.7/site-packages/ipykernel_launcher.py:75: UserWarning: Implicit dimension choice for softmax has been deprecated. Change the call to include dim=X as an argument.\n",
      "/home/riley/Software/anaconda3/envs/feas/lib/python3.7/site-packages/ipykernel_launcher.py:75: UserWarning: Implicit dimension choice for softmax has been deprecated. Change the call to include dim=X as an argument.\n"
     ]
    },
    {
     "name": "stdout",
     "output_type": "stream",
     "text": [
      "EPOCH : 510\tELBO : 18.240665\n",
      "[0.932981295638852, 0.963143546673127, 0.9670316558976819, 0.9458084641531673] [0.9320406484447223, 0.965757830412266, 0.9695421613076476, 0.9473803631611781]\n"
     ]
    },
    {
     "name": "stderr",
     "output_type": "stream",
     "text": [
      "/home/riley/Software/anaconda3/envs/feas/lib/python3.7/site-packages/ipykernel_launcher.py:75: UserWarning: Implicit dimension choice for softmax has been deprecated. Change the call to include dim=X as an argument.\n",
      "/home/riley/Software/anaconda3/envs/feas/lib/python3.7/site-packages/ipykernel_launcher.py:75: UserWarning: Implicit dimension choice for softmax has been deprecated. Change the call to include dim=X as an argument.\n"
     ]
    },
    {
     "name": "stdout",
     "output_type": "stream",
     "text": [
      "EPOCH : 520\tELBO : 9.652038\n",
      "[0.926971042312212, 0.9620606547572604, 0.9688960593718396, 0.9389095858578271] [0.9320406484447223, 0.965757830412266, 0.9695421613076476, 0.9473803631611781]\n"
     ]
    },
    {
     "name": "stderr",
     "output_type": "stream",
     "text": [
      "/home/riley/Software/anaconda3/envs/feas/lib/python3.7/site-packages/ipykernel_launcher.py:75: UserWarning: Implicit dimension choice for softmax has been deprecated. Change the call to include dim=X as an argument.\n",
      "/home/riley/Software/anaconda3/envs/feas/lib/python3.7/site-packages/ipykernel_launcher.py:75: UserWarning: Implicit dimension choice for softmax has been deprecated. Change the call to include dim=X as an argument.\n"
     ]
    },
    {
     "name": "stdout",
     "output_type": "stream",
     "text": [
      "EPOCH : 530\tELBO : 0.164234\n",
      "[0.9344753236486203, 0.9553787814685397, 0.9655568217113749, 0.9297677794835496] [0.9320406484447223, 0.965757830412266, 0.9695421613076476, 0.9473803631611781]\n"
     ]
    },
    {
     "name": "stderr",
     "output_type": "stream",
     "text": [
      "/home/riley/Software/anaconda3/envs/feas/lib/python3.7/site-packages/ipykernel_launcher.py:75: UserWarning: Implicit dimension choice for softmax has been deprecated. Change the call to include dim=X as an argument.\n",
      "/home/riley/Software/anaconda3/envs/feas/lib/python3.7/site-packages/ipykernel_launcher.py:75: UserWarning: Implicit dimension choice for softmax has been deprecated. Change the call to include dim=X as an argument.\n"
     ]
    },
    {
     "name": "stdout",
     "output_type": "stream",
     "text": [
      "EPOCH : 540\tELBO : 0.176647\n",
      "[0.9339534277722281, 0.953066394420107, 0.9661368463616717, 0.928311745852259] [0.9320406484447223, 0.965757830412266, 0.9695421613076476, 0.9473803631611781]\n"
     ]
    },
    {
     "name": "stderr",
     "output_type": "stream",
     "text": [
      "/home/riley/Software/anaconda3/envs/feas/lib/python3.7/site-packages/ipykernel_launcher.py:75: UserWarning: Implicit dimension choice for softmax has been deprecated. Change the call to include dim=X as an argument.\n",
      "/home/riley/Software/anaconda3/envs/feas/lib/python3.7/site-packages/ipykernel_launcher.py:75: UserWarning: Implicit dimension choice for softmax has been deprecated. Change the call to include dim=X as an argument.\n"
     ]
    },
    {
     "name": "stdout",
     "output_type": "stream",
     "text": [
      "EPOCH : 550\tELBO : 16.647545\n",
      "[0.9301448582939509, 0.9661177998085997, 0.9690792634433802, 0.942017000178648] [0.9320406484447223, 0.965757830412266, 0.9695421613076476, 0.9473803631611781]\n"
     ]
    },
    {
     "name": "stderr",
     "output_type": "stream",
     "text": [
      "/home/riley/Software/anaconda3/envs/feas/lib/python3.7/site-packages/ipykernel_launcher.py:75: UserWarning: Implicit dimension choice for softmax has been deprecated. Change the call to include dim=X as an argument.\n",
      "/home/riley/Software/anaconda3/envs/feas/lib/python3.7/site-packages/ipykernel_launcher.py:75: UserWarning: Implicit dimension choice for softmax has been deprecated. Change the call to include dim=X as an argument.\n"
     ]
    },
    {
     "name": "stdout",
     "output_type": "stream",
     "text": [
      "EPOCH : 560\tELBO : 17.188034\n",
      "[0.9309779066440531, 0.9643520808420165, 0.9689299271096069, 0.9448311440264557] [0.9320406484447223, 0.965757830412266, 0.9695421613076476, 0.9473803631611781]\n"
     ]
    },
    {
     "name": "stderr",
     "output_type": "stream",
     "text": [
      "/home/riley/Software/anaconda3/envs/feas/lib/python3.7/site-packages/ipykernel_launcher.py:75: UserWarning: Implicit dimension choice for softmax has been deprecated. Change the call to include dim=X as an argument.\n",
      "/home/riley/Software/anaconda3/envs/feas/lib/python3.7/site-packages/ipykernel_launcher.py:75: UserWarning: Implicit dimension choice for softmax has been deprecated. Change the call to include dim=X as an argument.\n"
     ]
    },
    {
     "name": "stdout",
     "output_type": "stream",
     "text": [
      "EPOCH : 570\tELBO : 4.563450\n",
      "[0.9332875362783357, 0.9659240323139093, 0.968166177379475, 0.9494617395858972] [0.9320406484447223, 0.965757830412266, 0.9695421613076476, 0.9473803631611781]\n"
     ]
    },
    {
     "name": "stderr",
     "output_type": "stream",
     "text": [
      "/home/riley/Software/anaconda3/envs/feas/lib/python3.7/site-packages/ipykernel_launcher.py:75: UserWarning: Implicit dimension choice for softmax has been deprecated. Change the call to include dim=X as an argument.\n",
      "/home/riley/Software/anaconda3/envs/feas/lib/python3.7/site-packages/ipykernel_launcher.py:75: UserWarning: Implicit dimension choice for softmax has been deprecated. Change the call to include dim=X as an argument.\n"
     ]
    },
    {
     "name": "stdout",
     "output_type": "stream",
     "text": [
      "EPOCH : 580\tELBO : 6.525419\n",
      "[0.9310695614360864, 0.959161362664432, 0.9673483291928644, 0.9331018281347301] [0.9332875362783357, 0.9659240323139093, 0.968166177379475, 0.9494617395858972]\n"
     ]
    },
    {
     "name": "stderr",
     "output_type": "stream",
     "text": [
      "/home/riley/Software/anaconda3/envs/feas/lib/python3.7/site-packages/ipykernel_launcher.py:75: UserWarning: Implicit dimension choice for softmax has been deprecated. Change the call to include dim=X as an argument.\n",
      "/home/riley/Software/anaconda3/envs/feas/lib/python3.7/site-packages/ipykernel_launcher.py:75: UserWarning: Implicit dimension choice for softmax has been deprecated. Change the call to include dim=X as an argument.\n"
     ]
    },
    {
     "ename": "KeyboardInterrupt",
     "evalue": "",
     "output_type": "error",
     "traceback": [
      "\u001b[0;31m---------------------------------------------------------------------------\u001b[0m",
      "\u001b[0;31mKeyboardInterrupt\u001b[0m                         Traceback (most recent call last)",
      "\u001b[0;32m/tmp/ipykernel_271606/3597709615.py\u001b[0m in \u001b[0;36m<module>\u001b[0;34m\u001b[0m\n\u001b[1;32m     32\u001b[0m         \u001b[0mloss\u001b[0m \u001b[0;34m=\u001b[0m \u001b[0mnll_loss\u001b[0m \u001b[0;34m+\u001b[0m \u001b[0;34m(\u001b[0m\u001b[0mkl\u001b[0m \u001b[0;34m/\u001b[0m \u001b[0;36m16\u001b[0m\u001b[0;34m)\u001b[0m  \u001b[0;31m# batch size\u001b[0m\u001b[0;34m\u001b[0m\u001b[0;34m\u001b[0m\u001b[0m\n\u001b[1;32m     33\u001b[0m \u001b[0;34m\u001b[0m\u001b[0m\n\u001b[0;32m---> 34\u001b[0;31m         \u001b[0mloss\u001b[0m\u001b[0;34m.\u001b[0m\u001b[0mbackward\u001b[0m\u001b[0;34m(\u001b[0m\u001b[0;34m)\u001b[0m\u001b[0;34m\u001b[0m\u001b[0;34m\u001b[0m\u001b[0m\n\u001b[0m\u001b[1;32m     35\u001b[0m         \u001b[0moptimizer\u001b[0m\u001b[0;34m.\u001b[0m\u001b[0mstep\u001b[0m\u001b[0;34m(\u001b[0m\u001b[0;34m)\u001b[0m\u001b[0;34m\u001b[0m\u001b[0;34m\u001b[0m\u001b[0m\n\u001b[1;32m     36\u001b[0m \u001b[0;34m\u001b[0m\u001b[0m\n",
      "\u001b[0;32m~/Software/anaconda3/envs/feas/lib/python3.7/site-packages/torch/_tensor.py\u001b[0m in \u001b[0;36mbackward\u001b[0;34m(self, gradient, retain_graph, create_graph, inputs)\u001b[0m\n\u001b[1;32m    305\u001b[0m                 \u001b[0mcreate_graph\u001b[0m\u001b[0;34m=\u001b[0m\u001b[0mcreate_graph\u001b[0m\u001b[0;34m,\u001b[0m\u001b[0;34m\u001b[0m\u001b[0;34m\u001b[0m\u001b[0m\n\u001b[1;32m    306\u001b[0m                 inputs=inputs)\n\u001b[0;32m--> 307\u001b[0;31m         \u001b[0mtorch\u001b[0m\u001b[0;34m.\u001b[0m\u001b[0mautograd\u001b[0m\u001b[0;34m.\u001b[0m\u001b[0mbackward\u001b[0m\u001b[0;34m(\u001b[0m\u001b[0mself\u001b[0m\u001b[0;34m,\u001b[0m \u001b[0mgradient\u001b[0m\u001b[0;34m,\u001b[0m \u001b[0mretain_graph\u001b[0m\u001b[0;34m,\u001b[0m \u001b[0mcreate_graph\u001b[0m\u001b[0;34m,\u001b[0m \u001b[0minputs\u001b[0m\u001b[0;34m=\u001b[0m\u001b[0minputs\u001b[0m\u001b[0;34m)\u001b[0m\u001b[0;34m\u001b[0m\u001b[0;34m\u001b[0m\u001b[0m\n\u001b[0m\u001b[1;32m    308\u001b[0m \u001b[0;34m\u001b[0m\u001b[0m\n\u001b[1;32m    309\u001b[0m     \u001b[0;32mdef\u001b[0m \u001b[0mregister_hook\u001b[0m\u001b[0;34m(\u001b[0m\u001b[0mself\u001b[0m\u001b[0;34m,\u001b[0m \u001b[0mhook\u001b[0m\u001b[0;34m)\u001b[0m\u001b[0;34m:\u001b[0m\u001b[0;34m\u001b[0m\u001b[0;34m\u001b[0m\u001b[0m\n",
      "\u001b[0;32m~/Software/anaconda3/envs/feas/lib/python3.7/site-packages/torch/autograd/__init__.py\u001b[0m in \u001b[0;36mbackward\u001b[0;34m(tensors, grad_tensors, retain_graph, create_graph, grad_variables, inputs)\u001b[0m\n\u001b[1;32m    154\u001b[0m     Variable._execution_engine.run_backward(\n\u001b[1;32m    155\u001b[0m         \u001b[0mtensors\u001b[0m\u001b[0;34m,\u001b[0m \u001b[0mgrad_tensors_\u001b[0m\u001b[0;34m,\u001b[0m \u001b[0mretain_graph\u001b[0m\u001b[0;34m,\u001b[0m \u001b[0mcreate_graph\u001b[0m\u001b[0;34m,\u001b[0m \u001b[0minputs\u001b[0m\u001b[0;34m,\u001b[0m\u001b[0;34m\u001b[0m\u001b[0;34m\u001b[0m\u001b[0m\n\u001b[0;32m--> 156\u001b[0;31m         allow_unreachable=True, accumulate_grad=True)  # allow_unreachable flag\n\u001b[0m\u001b[1;32m    157\u001b[0m \u001b[0;34m\u001b[0m\u001b[0m\n\u001b[1;32m    158\u001b[0m \u001b[0;34m\u001b[0m\u001b[0m\n",
      "\u001b[0;31mKeyboardInterrupt\u001b[0m: "
     ]
    }
   ],
   "source": [
    "# train the network\n",
    "\n",
    "iteration = 0\n",
    "tb_writer = SummaryWriter('runs/prod_seed_100704/')\n",
    "\n",
    "best_test_pear = [-100000., -100000., -10000., -10000.]\n",
    "\n",
    "for epoch in range(2000):\n",
    "    for batch_idx, (datapoint, target) in enumerate(dataloader_train):\n",
    "       \n",
    "        data, target = datapoint.to(device), target.to(device)\n",
    "        optimizer.zero_grad()\n",
    "        \n",
    "        output_ = []\n",
    "        kl_ = []\n",
    "        for sample_ix in range(20):\n",
    "            output, kl = model(data)\n",
    "            output_.append(output)\n",
    "            kl_.append(kl)\n",
    "            \n",
    "        output = torch.mean(torch.stack(output_), dim=0)\n",
    "        kl = torch.mean(torch.stack(kl_), dim=0)\n",
    "    \n",
    "        dist = torch.distributions.normal.Normal(\n",
    "                loc=output, \n",
    "                scale=10**-2.0, #1e-1,\n",
    "        )\n",
    "        \n",
    "        nll_loss = -torch.mean( dist.log_prob(target) )\n",
    "        \n",
    "        # elbo loss \n",
    "        loss = nll_loss + (kl / 16)  # batch size\n",
    "        \n",
    "        loss.backward()\n",
    "        optimizer.step()\n",
    "        \n",
    "        \n",
    "        \n",
    "    if epoch % 10 == 0:\n",
    "        print(f'EPOCH : {epoch}\\tELBO : {loss.item():.6f}')\n",
    "\n",
    "        # make a prediction on the train set\n",
    "        preds = []\n",
    "        for _ in range(20):\n",
    "            p, kl_ = model(_train_features.to(device))\n",
    "            preds.append(p)\n",
    "            \n",
    "        preds = torch.stack(preds)\n",
    "        means = preds.mean(axis=0)\n",
    "        stds = preds.std(axis=0)\n",
    "\n",
    "        true = _train_targets\n",
    "        means = means.cpu().detach().numpy()\n",
    "\n",
    "        train_stats = evaluate(true, means)\n",
    "        \n",
    "        # make a prediction on the test set\n",
    "        preds = []\n",
    "        for _ in range(20):\n",
    "            p, kl_ = model(_test_features.to(device))\n",
    "            preds.append(p)\n",
    "        preds = torch.stack(preds)\n",
    "        means = preds.mean(axis=0)\n",
    "        stds = preds.std(axis=0)\n",
    "\n",
    "        true = _test_targets\n",
    "        means = means.cpu().detach().numpy()\n",
    "\n",
    "        test_stats = evaluate(true, means)\n",
    "        \n",
    "        \n",
    "        curr_test_pear = [\n",
    "            test_stats['na']['pear'],\n",
    "            test_stats['ma']['pear'],\n",
    "            test_stats['ba']['pear'],\n",
    "            test_stats['ta']['pear'],\n",
    "        ]\n",
    "        \n",
    "        print(curr_test_pear, best_test_pear)\n",
    "        \n",
    "        if np.sum(curr_test_pear)>np.sum(best_test_pear):\n",
    "            # save the model and update best stats\n",
    "            torch.save(model.state_dict(), 'torch_prod_models/fullerenes.pth')\n",
    "            # update the best stats\n",
    "            best_test_pear = [curr_test_pear[i] for i in range(4)]\n",
    "            \n",
    "\n"
   ]
  },
  {
   "cell_type": "markdown",
   "metadata": {},
   "source": [
    "## Visualize predictions"
   ]
  },
  {
   "cell_type": "code",
   "execution_count": 19,
   "metadata": {},
   "outputs": [
    {
     "data": {
      "text/plain": [
       "<All keys matched successfully>"
      ]
     },
     "execution_count": 19,
     "metadata": {},
     "output_type": "execute_result"
    }
   ],
   "source": [
    "# load in the saved weights and make predictions \n",
    "checkpoint = 'torch_prod_models/fullerenes.pth'\n",
    "model.load_state_dict(torch.load(checkpoint))"
   ]
  },
  {
   "cell_type": "code",
   "execution_count": 20,
   "metadata": {},
   "outputs": [
    {
     "name": "stderr",
     "output_type": "stream",
     "text": [
      "/home/riley/Software/anaconda3/envs/feas/lib/python3.7/site-packages/ipykernel_launcher.py:75: UserWarning: Implicit dimension choice for softmax has been deprecated. Change the call to include dim=X as an argument.\n",
      "/home/riley/Software/anaconda3/envs/feas/lib/python3.7/site-packages/ipykernel_launcher.py:75: UserWarning: Implicit dimension choice for softmax has been deprecated. Change the call to include dim=X as an argument.\n"
     ]
    }
   ],
   "source": [
    "#make a prediction on the train set\n",
    "preds = []\n",
    "for _ in range(50):\n",
    "    p, kl_ = model(_train_features.to(device))\n",
    "    preds.append(p)\n",
    "\n",
    "train_preds = torch.stack(preds)\n",
    "train_means = train_preds.mean(axis=0)\n",
    "train_stds = train_preds.std(axis=0)\n",
    "\n",
    "train_true = _train_targets\n",
    "train_means = train_means.cpu().detach().numpy()\n",
    "\n",
    "train_stats = evaluate(train_true, train_means)\n",
    "\n",
    "# make a prediction on the test set\n",
    "preds = []\n",
    "for _ in range(50):\n",
    "    p, kl_ = model(_test_features.to(device))\n",
    "    preds.append(p)\n",
    "test_preds = torch.stack(preds)\n",
    "test_means = test_preds.mean(axis=0)\n",
    "test_stds = test_preds.std(axis=0)\n",
    "\n",
    "test_true = _test_targets\n",
    "test_means = test_means.cpu().detach().numpy()\n",
    "\n",
    "test_stats = evaluate(test_true, test_means)"
   ]
  },
  {
   "cell_type": "code",
   "execution_count": 51,
   "metadata": {},
   "outputs": [
    {
     "name": "stdout",
     "output_type": "stream",
     "text": [
      "0.03\n"
     ]
    },
    {
     "data": {
      "image/png": "[encoded data removed]",
      "text/plain": [
       "<Figure size 936x288 with 4 Axes>"
      ]
     },
     "metadata": {
      "needs_background": "light"
     },
     "output_type": "display_data"
    }
   ],
   "source": [
    "# make pairity plots with \n",
    "train_color = '#219ebc'\n",
    "test_color  = '#fb8500'\n",
    "outline = '#ffffff'\n",
    "\n",
    "\n",
    "\n",
    "fig, axes = plt.subplots(1, 4, figsize=(13, 4), sharey=True)\n",
    "\n",
    "# NA\n",
    "axes[0].plot([0, 1], [0, 1], c='k', lw=1.0, ls='--', alpha=0.9)\n",
    "# na training\n",
    "axes[0].plot(train_true[:, 0], train_means[:, 0], c=outline, ls='', marker='o', markersize=8)\n",
    "axes[0].plot(train_true[:, 0], train_means[:, 0], c=train_color, ls='', marker='o', markersize=6, label='train')\n",
    "# na test\n",
    "axes[0].plot(test_true[:, 0], test_means[:, 0], c=outline, ls='', marker='o', markersize=8)\n",
    "axes[0].plot(test_true[:, 0], test_means[:, 0], c=test_color, ls='', marker='o', markersize=6, label='test')\n",
    "\n",
    "\n",
    "# MA\n",
    "axes[1].plot([0, 1], [0, 1], c='k', lw=1.0, ls='--', alpha=0.9)\n",
    "# ma training\n",
    "axes[1].plot(train_true[:, 1], train_means[:, 1], c=outline, ls='', marker='o', markersize=8)\n",
    "axes[1].plot(train_true[:, 1], train_means[:, 1], c=train_color, ls='', marker='o', markersize=6, label='train')\n",
    "# ma test\n",
    "axes[1].plot(test_true[:, 1], test_means[:, 1], c=outline, ls='', marker='o', markersize=8)\n",
    "axes[1].plot(test_true[:, 1], test_means[:, 1], c=test_color, ls='', marker='o', markersize=6, label='test')\n",
    "\n",
    "\n",
    "# BA\n",
    "axes[2].plot([0, 1], [0, 1], c='k', lw=1.0, ls='--', alpha=0.9)\n",
    "# ba training\n",
    "axes[2].plot(train_true[:, 2], train_means[:, 2], c=outline, ls='', marker='o', markersize=8)\n",
    "axes[2].plot(train_true[:, 2], train_means[:, 2], c=train_color, ls='', marker='o', markersize=6, label='train')\n",
    "# ba test\n",
    "axes[2].plot(test_true[:, 2], test_means[:, 2], c=outline, ls='', marker='o', markersize=8)\n",
    "axes[2].plot(test_true[:, 2], test_means[:, 2], c=test_color, ls='', marker='o', markersize=6, label='test')\n",
    "\n",
    "\n",
    "# TA\n",
    "axes[3].plot([0, 1], [0, 1], c='k', lw=1.0, ls='--', alpha=0.9)\n",
    "# ta training\n",
    "axes[3].plot(train_true[:, 3], train_means[:, 3], c=outline, ls='', marker='o', markersize=8)\n",
    "axes[3].plot(train_true[:, 3], train_means[:, 3], c=train_color, ls='', marker='o', markersize=6, label='train')\n",
    "# ta test\n",
    "axes[3].plot(test_true[:, 3], test_means[:, 3], c=outline, ls='', marker='o', markersize=8)\n",
    "axes[3].plot(test_true[:, 3], test_means[:, 3], c=test_color, ls='', marker='o', markersize=6, label='test')\n",
    "\n",
    "\n",
    "\n",
    "axes[0].set_xlabel('true mole fraction', fontsize=14)\n",
    "axes[1].set_xlabel('true mole fraction', fontsize=14)\n",
    "axes[2].set_xlabel('true mole fraction', fontsize=14)\n",
    "axes[3].set_xlabel('true mole fraction', fontsize=14)\n",
    "axes[0].set_ylabel('predicted mole fraction', fontsize=14)\n",
    "\n",
    "axes[0].set_title(r'$X_0$', fontsize=15)\n",
    "axes[1].set_title(r'$X_1$', fontsize=15)\n",
    "axes[2].set_title(r'$X_2$', fontsize=15)\n",
    "axes[3].set_title(r'$X_3$', fontsize=15)\n",
    "\n",
    "axes[0].legend(loc='lower right', fontsize=13)\n",
    "\n",
    "na_train_pear = round(train_stats['na']['pear'], 2)\n",
    "na_train_rmse = round(train_stats['na']['rmse'], 2)\n",
    "na_test_pear = round(test_stats['na']['pear'], 2)\n",
    "na_test_rmse = round(test_stats['na']['rmse'], 2)\n",
    "\n",
    "\n",
    "ma_train_pear = round(train_stats['ma']['pear'], 2)\n",
    "ma_train_rmse = round(train_stats['ma']['rmse'], 2)\n",
    "ma_test_pear = round(test_stats['ma']['pear'], 2)\n",
    "ma_test_rmse = round(test_stats['ma']['rmse'], 2)\n",
    "\n",
    "ba_train_pear = round(train_stats['ba']['pear'], 2)\n",
    "ba_train_rmse = round(train_stats['ba']['rmse'], 2)\n",
    "ba_test_pear = round(test_stats['ba']['pear'], 2)\n",
    "ba_test_rmse = round(test_stats['ba']['rmse'], 2)\n",
    "\n",
    "ta_train_pear = round(train_stats['ta']['pear'], 2)\n",
    "ta_train_rmse = round(train_stats['ta']['rmse'], 2)\n",
    "ta_test_pear = round(test_stats['ta']['pear'], 2)\n",
    "ta_test_rmse = round(test_stats['ta']['rmse'], 2)\n",
    "\n",
    "axes[0].text(0.0, 0.85, s=f'Pears = {na_test_pear} ({na_train_pear})\\nRMSE = {str(na_test_rmse)[:4]} ({str(na_train_rmse)[:4]})',\n",
    "             fontsize=14)\n",
    "\n",
    "axes[1].text(0.0, 0.85, s=f'Pears = {ma_test_pear} ({ma_train_pear})\\nRMSE = {str(ma_test_rmse)[:4]} ({str(ma_train_rmse)[:4]})',\n",
    "             fontsize=14)\n",
    "\n",
    "axes[2].text(0.0, 0.85, s=f'Pears = {ba_test_pear} ({ba_train_pear})\\nRMSE = {str(ba_test_rmse)[:4]} ({str(ba_train_rmse)[:4]})',\n",
    "             fontsize=14)\n",
    "\n",
    "axes[3].text(0.0, 0.85, s=f'Pears = {ta_test_pear} ({ta_train_pear})\\nRMSE = {str(ta_test_rmse)[:4]} ({str(ta_train_rmse)[:4]})',\n",
    "             fontsize=14)\n",
    "\n",
    "\n",
    "\n",
    "plt.tight_layout()\n"
   ]
  },
  {
   "cell_type": "code",
   "execution_count": 54,
   "metadata": {},
   "outputs": [],
   "source": [
    "pickle.dump(feature_scaler, open('torch_prod_models/feature_scaler.pkl', 'wb'))"
   ]
  },
  {
   "cell_type": "code",
   "execution_count": null,
   "metadata": {},
   "outputs": [],
   "source": []
  }
 ],
 "metadata": {
  "kernelspec": {
   "display_name": "feas",
   "language": "python",
   "name": "feas"
  },
  "language_info": {
   "codemirror_mode": {
    "name": "ipython",
    "version": 3
   },
   "file_extension": ".py",
   "mimetype": "text/x-python",
   "name": "python",
   "nbconvert_exporter": "python",
   "pygments_lexer": "ipython3",
   "version": "3.7.11"
  }
 },
 "nbformat": 4,
 "nbformat_minor": 5
}
